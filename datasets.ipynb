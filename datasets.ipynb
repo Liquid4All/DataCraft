{
 "cells": [
  {
   "cell_type": "code",
   "execution_count": 18,
   "metadata": {},
   "outputs": [],
   "source": [
    "# from huggingface_hub import snapshot_download\n",
    "\n",
    "repo_id = 'allenai/pixmo-cap'\n",
    "# target_dir = '/lambdafs/jacob/data/' + repo_id.replace('/', '_')\n",
    "\n",
    "from datasets import load_dataset\n",
    "dataset = load_dataset(repo_id, split='train', streaming=True)\n",
    "\n",
    "# snapshot_download(repo_id=repo_id, local_dir=target_dir, repo_type='dataset')\n"
   ]
  },
  {
   "cell_type": "code",
   "execution_count": 1,
   "metadata": {},
   "outputs": [],
   "source": [
    "%load_ext autoreload\n",
    "%autoreload 2\n",
    "\n",
    "# import nest_asyncio\n",
    "# nest_asyncio.apply()"
   ]
  },
  {
   "cell_type": "code",
   "execution_count": 2,
   "metadata": {},
   "outputs": [],
   "source": [
    "from data_manager import DataManager"
   ]
  },
  {
   "cell_type": "code",
   "execution_count": 3,
   "metadata": {},
   "outputs": [],
   "source": [
    "manager = DataManager(db_path='/home/jacob/Desktop/test_db.db', download_manager_workers=300)"
   ]
  },
  {
   "cell_type": "code",
   "execution_count": 5,
   "metadata": {},
   "outputs": [
    {
     "name": "stderr",
     "output_type": "stream",
     "text": [
      "Processing Rows: 10000rows [00:00, 10842.58rows/s]\n"
     ]
    }
   ],
   "source": [
    "manager.process_dataset(\"data_sets/pixmo-cap.py\", \"/home/jacob/Desktop/data\")"
   ]
  },
  {
   "cell_type": "code",
   "execution_count": null,
   "metadata": {},
   "outputs": [],
   "source": [
    "# manager.download_manager.get_stats()\n",
    "manager.download_manager.get_failed_downloads()"
   ]
  },
  {
   "cell_type": "code",
   "execution_count": 11,
   "metadata": {},
   "outputs": [
    {
     "data": {
      "text/plain": [
       "{'uuid': '43f900ec-8bb3-4b64-b58d-624e2df177a6',\n",
       " 'data_source': 'pixmo-cap',\n",
       " 'group_id': 'pixmo-cap-20241206',\n",
       " 'data_type': 'default',\n",
       " 'data': \"The image depicts an upscale Infiniti car dealership showroom, characterized by its spacious and well-lit interior. The showroom features dark brown wooden floors and a large area of beige-ish, white-ish tile where five Infiniti cars are neatly lined up, three on the right and two on the left. The cars are in various colors, including blue, silver, white, red, and gray. The center of the showroom has a consultation area furnished with dark brown leather couches, ideal for potential buyers to sit and discuss. A display case is also visible near this seating area. At the very back of the showroom, a counter is visible with the Infiniti logo displayed prominently. The building's walls are primarily made of glass, allowing abundant natural light to flood the space and offering views of the bright, sunny day outside. No people or written text are present in the image.\",\n",
       " 'files': \"['/home/jacob/Desktop/DataCentral/pixmo-cap-images48e091499ad916795360d5222d88a341c34f5709.jpg']\"}"
      ]
     },
     "execution_count": 11,
     "metadata": {},
     "output_type": "execute_result"
    }
   ],
   "source": [
    "data = manager.sample_data(data_sources=['pixmo-cap'], limit=100, offset=20)\n",
    "data[0]"
   ]
  },
  {
   "cell_type": "code",
   "execution_count": 36,
   "metadata": {},
   "outputs": [
    {
     "data": {
      "text/plain": [
       "0"
      ]
     },
     "execution_count": 36,
     "metadata": {},
     "output_type": "execute_result"
    }
   ],
   "source": [
    "manager.delete_group(group_id=\"testing\")"
   ]
  }
 ],
 "metadata": {
  "kernelspec": {
   "display_name": "Python 3 (ipykernel)",
   "language": "python",
   "name": "python3"
  },
  "language_info": {
   "codemirror_mode": {
    "name": "ipython",
    "version": 3
   },
   "file_extension": ".py",
   "mimetype": "text/x-python",
   "name": "python",
   "nbconvert_exporter": "python",
   "pygments_lexer": "ipython3",
   "version": "3.11.10"
  }
 },
 "nbformat": 4,
 "nbformat_minor": 2
}
