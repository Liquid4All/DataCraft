{
 "cells": [
  {
   "cell_type": "code",
   "execution_count": 1,
   "metadata": {},
   "outputs": [],
   "source": [
    "%load_ext autoreload\n",
    "%autoreload 2"
   ]
  },
  {
   "cell_type": "code",
   "execution_count": 2,
   "metadata": {},
   "outputs": [],
   "source": [
    "from data_manager import DataManager\n",
    "manager = DataManager(db_path='/home/jacob/Desktop/test_db.db', download_manager_workers=300) # master_db.db"
   ]
  },
  {
   "cell_type": "code",
   "execution_count": 4,
   "metadata": {},
   "outputs": [],
   "source": [
    "manager.process_dataset(\"data_sets/image/llava_onevision.py\", \"/home/jacob/Desktop/data\", dataset_subset=\"VizWiz(MathV360K)\", sample=True, skip_file_download=False, batch_size=100)\n",
    "# manager.file_manager.get_stats()\n",
    "# len(manager.file_manager.get_failed_operations())"
   ]
  },
  {
   "cell_type": "code",
   "execution_count": 11,
   "metadata": {},
   "outputs": [],
   "source": [
    "data = manager.sample_data(data_sources=[\"pixmo_point_explanations\"], limit=3, offset=0)\n",
    "# ['pixmo_docs_charts', 'pixmo_docs_diagrams', 'pixmo_docs_other']\n",
    "\n",
    "data"
   ]
  },
  {
   "cell_type": "code",
   "execution_count": 3,
   "metadata": {},
   "outputs": [],
   "source": [
    "manager.delete(data_sources=[\"llava_onevision_VizWiz(MathV360K)\"])"
   ]
  }
 ],
 "metadata": {
  "kernelspec": {
   "display_name": "Python 3 (ipykernel)",
   "language": "python",
   "name": "python3"
  }
 },
 "nbformat": 4,
 "nbformat_minor": 2
}
