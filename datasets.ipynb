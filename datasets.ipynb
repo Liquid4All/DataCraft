{
 "cells": [
  {
   "cell_type": "code",
   "execution_count": 1,
   "metadata": {},
   "outputs": [],
   "source": [
    "%load_ext autoreload\n",
    "%autoreload 2"
   ]
  },
  {
   "cell_type": "code",
   "execution_count": null,
   "metadata": {},
   "outputs": [],
   "source": [
    "from data_manager import DataManager\n",
    "manager = DataManager(db_path='/home/jacob/Desktop/test_db.db', download_manager_workers=300) # master_db.db"
   ]
  },
  {
   "cell_type": "code",
   "execution_count": null,
   "metadata": {},
   "outputs": [],
   "source": [
    "manager.process_dataset(\"data_sets/image/pixmo_docs_diagrams.py\", \"/home/jacob/Desktop/data\", sample=False, skip_file_download=False)\n",
    "# manager.download_manager.get_stats()\n",
    "# len(manager.download_manager.get_failed_downloads())"
   ]
  },
  {
   "cell_type": "code",
   "execution_count": 9,
   "metadata": {},
   "outputs": [
    {
     "data": {
      "text/plain": [
       "[{'uuid': 'abe1ef17-d10b-e62d-c683-64d009210eda',\n",
       "  'data_source': 'pixmo_docs_charts',\n",
       "  'group_id': 'pixmo_docs_charts-20241207',\n",
       "  'data_type': 'default',\n",
       "  'data': '{\"conversations\": [{\"role\": \"user\", \"content\": [{\"type\": \"text\", \"value\": \"What is the average number of German theater courses offered by the top three universities?\"}]}, {\"role\": \"assistant\", \"content\": [{\"type\": \"text\", \"value\": \"8.33\"}]}]}',\n",
       "  'files': '[\"/home/jacob/Desktop/data/pixmo-docs-images/images/PlotlyChartPipeline_bar_claude_2-144.png\"]'},\n",
       " {'uuid': 'd0551a6c-ca96-c9c7-c6a2-d9cb8dbf5024',\n",
       "  'data_source': 'pixmo_docs_charts',\n",
       "  'group_id': 'pixmo_docs_charts-20241207',\n",
       "  'data_type': 'default',\n",
       "  'data': '{\"conversations\": [{\"role\": \"user\", \"content\": [{\"type\": \"text\", \"value\": \"How much more fan attendance does the 35-44 age group have than the 65+ age group?\"}]}, {\"role\": \"assistant\", \"content\": [{\"type\": \"text\", \"value\": \"6%\"}]}]}',\n",
       "  'files': '[\"/home/jacob/Desktop/data/pixmo-docs-images/images/PlotlyChartPipeline_pie_claude_1-204.png\"]'},\n",
       " {'uuid': '415a8fce-2ae4-e43a-25c1-74d1781b42ea',\n",
       "  'data_source': 'pixmo_docs_charts',\n",
       "  'group_id': 'pixmo_docs_charts-20241207',\n",
       "  'data_type': 'default',\n",
       "  'data': '{\"conversations\": [{\"role\": \"user\", \"content\": [{\"type\": \"text\", \"value\": \"What was the closing stock price for days with low crop circle activity?\"}]}, {\"role\": \"assistant\", \"content\": [{\"type\": \"text\", \"value\": \"51, 54, 57, 60, 63\"}]}]}',\n",
       "  'files': '[\"/home/jacob/Desktop/data/pixmo-docs-images/images/VegaLiteChartPipeline_candle_1-228.png\"]'},\n",
       " {'uuid': 'c6458d92-41f2-6fe3-95a7-39044541afa1',\n",
       "  'data_source': 'pixmo_docs_diagrams',\n",
       "  'group_id': 'pixmo_docs_diagrams-20241207',\n",
       "  'data_type': 'default',\n",
       "  'data': '{\"conversations\": [{\"role\": \"user\", \"content\": [{\"type\": \"text\", \"value\": \"What is maintained by the Train Controller throughout the emergency?\"}]}, {\"role\": \"assistant\", \"content\": [{\"type\": \"text\", \"value\": \"Communication Log\"}]}]}',\n",
       "  'files': '[\"/home/jacob/Desktop/data/pixmo-docs-images/images/GraphvizDiagramPipeline_sequence_1-4.png\"]'},\n",
       " {'uuid': '1529b5cb-a44c-ded0-6294-572950cf106d',\n",
       "  'data_source': 'pixmo_docs_diagrams',\n",
       "  'group_id': 'pixmo_docs_diagrams-20241207',\n",
       "  'data_type': 'default',\n",
       "  'data': '{\"conversations\": [{\"role\": \"user\", \"content\": [{\"type\": \"text\", \"value\": \"What day does \\\\\"Analyze Digital Evidence\\\\\" start?\"}]}, {\"role\": \"assistant\", \"content\": [{\"type\": \"text\", \"value\": \"October 6th\"}]}]}',\n",
       "  'files': '[\"/home/jacob/Desktop/data/pixmo-docs-images/images/MermaidDiagramPipeline_gantt_2-16.png\"]'},\n",
       " {'uuid': 'd0047a51-08ae-236b-674e-81b94374f201',\n",
       "  'data_source': 'pixmo_docs_diagrams',\n",
       "  'group_id': 'pixmo_docs_diagrams-20241207',\n",
       "  'data_type': 'default',\n",
       "  'data': '{\"conversations\": [{\"role\": \"user\", \"content\": [{\"type\": \"text\", \"value\": \"What is the outcome if the Availability is Low?\"}]}, {\"role\": \"assistant\", \"content\": [{\"type\": \"text\", \"value\": \"Not Recommended\"}]}]}',\n",
       "  'files': '[\"/home/jacob/Desktop/data/pixmo-docs-images/images/MermaidDiagramPipeline_tree_1-34.png\"]'},\n",
       " {'uuid': '8a8ea4fd-b2a9-04e2-53af-cb1d623ec0cd',\n",
       "  'data_source': 'pixmo_docs_other',\n",
       "  'group_id': 'pixmo_docs_other-20241207',\n",
       "  'data_type': 'default',\n",
       "  'data': '{\"conversations\": [{\"role\": \"user\", \"content\": [{\"type\": \"text\", \"value\": \"Who gave the testimonial?\"}]}, {\"role\": \"assistant\", \"content\": [{\"type\": \"text\", \"value\": \"J.K. Rowling\"}]}]}',\n",
       "  'files': '[\"/home/jacob/Desktop/data/pixmo-docs-images/images/HTMLDocumentPipeline_receipt_claude_0-78.png\"]'},\n",
       " {'uuid': '87aa6caa-b859-5106-a92a-1d288167d8f6',\n",
       "  'data_source': 'pixmo_docs_other',\n",
       "  'group_id': 'pixmo_docs_other-20241207',\n",
       "  'data_type': 'default',\n",
       "  'data': '{\"conversations\": [{\"role\": \"user\", \"content\": [{\"type\": \"text\", \"value\": \"who is the seller of the property?\"}]}, {\"role\": \"assistant\", \"content\": [{\"type\": \"text\", \"value\": \"Marie Martin\"}]}]}',\n",
       "  'files': '[\"/home/jacob/Desktop/data/pixmo-docs-images/images/HTMLDocumentPipeline_contract_1-132.png\"]'},\n",
       " {'uuid': '6d4435e6-2aad-6942-bc43-fecf4740c2aa',\n",
       "  'data_source': 'pixmo_docs_other',\n",
       "  'group_id': 'pixmo_docs_other-20241207',\n",
       "  'data_type': 'default',\n",
       "  'data': '{\"conversations\": [{\"role\": \"user\", \"content\": [{\"type\": \"text\", \"value\": \"what is the closing statement\\'s tone directed toward customers?\"}]}, {\"role\": \"assistant\", \"content\": [{\"type\": \"text\", \"value\": \"welcoming\"}]}]}',\n",
       "  'files': '[\"/home/jacob/Desktop/data/pixmo-docs-images/images/HTMLDocumentPipeline_form_claude_2-325.png\"]'}]"
      ]
     },
     "execution_count": 9,
     "metadata": {},
     "output_type": "execute_result"
    }
   ],
   "source": [
    "data = manager.sample_data(data_sources=['pixmo_docs_charts', 'pixmo_docs_diagrams', 'pixmo_docs_other'], limit=3, offset=100)\n",
    "# manager.delete(data_sources=[\"pixmo_cap\"])\n",
    "\n",
    "data"
   ]
  }
 ],
 "metadata": {
  "kernelspec": {
   "display_name": "Python 3 (ipykernel)",
   "language": "python",
   "name": "python3"
  },
  "language_info": {
   "codemirror_mode": {
    "name": "ipython",
    "version": 3
   },
   "file_extension": ".py",
   "mimetype": "text/x-python",
   "name": "python",
   "nbconvert_exporter": "python",
   "pygments_lexer": "ipython3",
   "version": "3.11.10"
  }
 },
 "nbformat": 4,
 "nbformat_minor": 2
}
