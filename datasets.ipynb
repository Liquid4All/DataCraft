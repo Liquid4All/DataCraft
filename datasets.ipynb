{
 "cells": [
  {
   "cell_type": "code",
   "execution_count": 1,
   "metadata": {},
   "outputs": [],
   "source": [
    "%load_ext autoreload\n",
    "%autoreload 2"
   ]
  },
  {
   "cell_type": "code",
   "execution_count": 3,
   "metadata": {},
   "outputs": [],
   "source": [
    "from data_manager import DataManager\n",
    "manager = DataManager(db_path='/home/jacob/Desktop/test_db.db', download_manager_workers=300) # master_db.db"
   ]
  },
  {
   "cell_type": "code",
   "execution_count": null,
   "metadata": {},
   "outputs": [],
   "source": [
    "manager.process_dataset(\"data_sets/image/pixmo_docs.py\", \"/home/jacob/Desktop/data\", dataset_subset = \"charts\", sample=True, skip_file_download=False, batch_size=100)\n",
    "# manager.file_manager.get_stats()\n",
    "# len(manager.file_manager.get_failed_operations())"
   ]
  },
  {
   "cell_type": "code",
   "execution_count": null,
   "metadata": {},
   "outputs": [],
   "source": [
    "data = manager.sample_data(data_sources=['pixmo_docs_charts', 'pixmo_docs_diagrams', 'pixmo_docs_other'], limit=3, offset=10)\n",
    "# manager.delete(data_sources=[\"pixmo_cap\"])\n",
    "\n",
    "data"
   ]
  },
  {
   "cell_type": "code",
   "execution_count": null,
   "metadata": {},
   "outputs": [],
   "source": []
  }
 ],
 "metadata": {
  "kernelspec": {
   "display_name": "Python 3 (ipykernel)",
   "language": "python",
   "name": "python3"
  },
  "language_info": {
   "codemirror_mode": {
    "name": "ipython",
    "version": 3
   },
   "file_extension": ".py",
   "mimetype": "text/x-python",
   "name": "python",
   "nbconvert_exporter": "python",
   "pygments_lexer": "ipython3",
   "version": "3.11.10"
  }
 },
 "nbformat": 4,
 "nbformat_minor": 2
}
